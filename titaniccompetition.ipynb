{
 "cells": [
  {
   "cell_type": "markdown",
   "id": "54f11b93",
   "metadata": {
    "papermill": {
     "duration": 0.010737,
     "end_time": "2025-04-03T23:39:25.559741",
     "exception": false,
     "start_time": "2025-04-03T23:39:25.549004",
     "status": "completed"
    },
    "tags": []
   },
   "source": [
    "# Titanic ML Competition - Notebook"
   ]
  },
  {
   "cell_type": "markdown",
   "id": "076eecc1",
   "metadata": {
    "papermill": {
     "duration": 0.009205,
     "end_time": "2025-04-03T23:39:25.580895",
     "exception": false,
     "start_time": "2025-04-03T23:39:25.571690",
     "status": "completed"
    },
    "tags": []
   },
   "source": [
    "Library import"
   ]
  },
  {
   "cell_type": "code",
   "execution_count": 1,
   "id": "49ba2381",
   "metadata": {
    "execution": {
     "iopub.execute_input": "2025-04-03T23:39:25.600243Z",
     "iopub.status.busy": "2025-04-03T23:39:25.599844Z",
     "iopub.status.idle": "2025-04-03T23:39:25.606582Z",
     "shell.execute_reply": "2025-04-03T23:39:25.605117Z"
    },
    "papermill": {
     "duration": 0.019152,
     "end_time": "2025-04-03T23:39:25.608779",
     "exception": false,
     "start_time": "2025-04-03T23:39:25.589627",
     "status": "completed"
    },
    "tags": []
   },
   "outputs": [],
   "source": [
    "#!pip install --upgrade seaborn"
   ]
  },
  {
   "cell_type": "code",
   "execution_count": 2,
   "id": "1f93ce94",
   "metadata": {
    "_cell_guid": "b1076dfc-b9ad-4769-8c92-a6c4dae69d19",
    "_uuid": "8f2839f25d086af736a60e9eeb907d3b93b6e0e5",
    "execution": {
     "iopub.execute_input": "2025-04-03T23:39:25.629718Z",
     "iopub.status.busy": "2025-04-03T23:39:25.629067Z",
     "iopub.status.idle": "2025-04-03T23:39:28.958771Z",
     "shell.execute_reply": "2025-04-03T23:39:28.957440Z"
    },
    "papermill": {
     "duration": 3.342446,
     "end_time": "2025-04-03T23:39:28.960918",
     "exception": false,
     "start_time": "2025-04-03T23:39:25.618472",
     "status": "completed"
    },
    "tags": []
   },
   "outputs": [],
   "source": [
    "import pandas as pd\n",
    "import numpy as np\n",
    "import matplotlib.pyplot as plt\n",
    "import seaborn as sns"
   ]
  },
  {
   "cell_type": "markdown",
   "id": "a5db88ae",
   "metadata": {
    "papermill": {
     "duration": 0.008195,
     "end_time": "2025-04-03T23:39:28.978669",
     "exception": false,
     "start_time": "2025-04-03T23:39:28.970474",
     "status": "completed"
    },
    "tags": []
   },
   "source": [
    "## Data Exploration"
   ]
  },
  {
   "cell_type": "code",
   "execution_count": 3,
   "id": "09c10b85",
   "metadata": {
    "execution": {
     "iopub.execute_input": "2025-04-03T23:39:28.996852Z",
     "iopub.status.busy": "2025-04-03T23:39:28.996287Z",
     "iopub.status.idle": "2025-04-03T23:39:29.026923Z",
     "shell.execute_reply": "2025-04-03T23:39:29.025542Z"
    },
    "papermill": {
     "duration": 0.042388,
     "end_time": "2025-04-03T23:39:29.029384",
     "exception": false,
     "start_time": "2025-04-03T23:39:28.986996",
     "status": "completed"
    },
    "tags": []
   },
   "outputs": [],
   "source": [
    "# First we read the train and test data set\n",
    "train_df = pd.read_csv('/kaggle/input/titanic/train.csv')\n",
    "test_df = pd.read_csv('/kaggle/input/titanic/train.csv')"
   ]
  },
  {
   "cell_type": "code",
   "execution_count": 4,
   "id": "a96ef158",
   "metadata": {
    "execution": {
     "iopub.execute_input": "2025-04-03T23:39:29.048438Z",
     "iopub.status.busy": "2025-04-03T23:39:29.048006Z",
     "iopub.status.idle": "2025-04-03T23:39:29.085561Z",
     "shell.execute_reply": "2025-04-03T23:39:29.083865Z"
    },
    "papermill": {
     "duration": 0.049708,
     "end_time": "2025-04-03T23:39:29.088038",
     "exception": false,
     "start_time": "2025-04-03T23:39:29.038330",
     "status": "completed"
    },
    "tags": []
   },
   "outputs": [
    {
     "name": "stdout",
     "output_type": "stream",
     "text": [
      "<class 'pandas.core.frame.DataFrame'>\n",
      "RangeIndex: 891 entries, 0 to 890\n",
      "Data columns (total 12 columns):\n",
      " #   Column       Non-Null Count  Dtype  \n",
      "---  ------       --------------  -----  \n",
      " 0   PassengerId  891 non-null    int64  \n",
      " 1   Survived     891 non-null    int64  \n",
      " 2   Pclass       891 non-null    int64  \n",
      " 3   Name         891 non-null    object \n",
      " 4   Sex          891 non-null    object \n",
      " 5   Age          714 non-null    float64\n",
      " 6   SibSp        891 non-null    int64  \n",
      " 7   Parch        891 non-null    int64  \n",
      " 8   Ticket       891 non-null    object \n",
      " 9   Fare         891 non-null    float64\n",
      " 10  Cabin        204 non-null    object \n",
      " 11  Embarked     889 non-null    object \n",
      "dtypes: float64(2), int64(5), object(5)\n",
      "memory usage: 83.7+ KB\n"
     ]
    }
   ],
   "source": [
    "test_df.info()"
   ]
  },
  {
   "cell_type": "code",
   "execution_count": 5,
   "id": "05afc666",
   "metadata": {
    "execution": {
     "iopub.execute_input": "2025-04-03T23:39:29.107236Z",
     "iopub.status.busy": "2025-04-03T23:39:29.106816Z",
     "iopub.status.idle": "2025-04-03T23:39:29.119665Z",
     "shell.execute_reply": "2025-04-03T23:39:29.118240Z"
    },
    "papermill": {
     "duration": 0.024436,
     "end_time": "2025-04-03T23:39:29.121729",
     "exception": false,
     "start_time": "2025-04-03T23:39:29.097293",
     "status": "completed"
    },
    "tags": []
   },
   "outputs": [
    {
     "name": "stdout",
     "output_type": "stream",
     "text": [
      "<class 'pandas.core.frame.DataFrame'>\n",
      "RangeIndex: 891 entries, 0 to 890\n",
      "Data columns (total 12 columns):\n",
      " #   Column       Non-Null Count  Dtype  \n",
      "---  ------       --------------  -----  \n",
      " 0   PassengerId  891 non-null    int64  \n",
      " 1   Survived     891 non-null    int64  \n",
      " 2   Pclass       891 non-null    int64  \n",
      " 3   Name         891 non-null    object \n",
      " 4   Sex          891 non-null    object \n",
      " 5   Age          714 non-null    float64\n",
      " 6   SibSp        891 non-null    int64  \n",
      " 7   Parch        891 non-null    int64  \n",
      " 8   Ticket       891 non-null    object \n",
      " 9   Fare         891 non-null    float64\n",
      " 10  Cabin        204 non-null    object \n",
      " 11  Embarked     889 non-null    object \n",
      "dtypes: float64(2), int64(5), object(5)\n",
      "memory usage: 83.7+ KB\n"
     ]
    }
   ],
   "source": [
    "train_df.info()"
   ]
  },
  {
   "cell_type": "markdown",
   "id": "7c9027ff",
   "metadata": {
    "papermill": {
     "duration": 0.008738,
     "end_time": "2025-04-03T23:39:29.140106",
     "exception": false,
     "start_time": "2025-04-03T23:39:29.131368",
     "status": "completed"
    },
    "tags": []
   },
   "source": [
    "- First we take a look on Age | Cabin | Embarked. This considering the null values"
   ]
  },
  {
   "cell_type": "code",
   "execution_count": 6,
   "id": "b032848d",
   "metadata": {
    "execution": {
     "iopub.execute_input": "2025-04-03T23:39:29.161989Z",
     "iopub.status.busy": "2025-04-03T23:39:29.161544Z",
     "iopub.status.idle": "2025-04-03T23:39:29.563446Z",
     "shell.execute_reply": "2025-04-03T23:39:29.562314Z"
    },
    "papermill": {
     "duration": 0.416097,
     "end_time": "2025-04-03T23:39:29.565586",
     "exception": false,
     "start_time": "2025-04-03T23:39:29.149489",
     "status": "completed"
    },
    "tags": []
   },
   "outputs": [
    {
     "name": "stderr",
     "output_type": "stream",
     "text": [
      "/usr/local/lib/python3.10/dist-packages/seaborn/_oldcore.py:1119: FutureWarning: use_inf_as_na option is deprecated and will be removed in a future version. Convert inf values to NaN before operating instead.\n",
      "  with pd.option_context('mode.use_inf_as_na', True):\n"
     ]
    },
    {
     "data": {
      "text/plain": [
       "<Axes: xlabel='Age', ylabel='Count'>"
      ]
     },
     "execution_count": 6,
     "metadata": {},
     "output_type": "execute_result"
    },
    {
     "data": {
      "image/png": "[encoded data removed]",
      "text/plain": [
       "<Figure size 640x480 with 1 Axes>"
      ]
     },
     "metadata": {},
     "output_type": "display_data"
    }
   ],
   "source": [
    "sns.histplot(train_df, x = 'Age')"
   ]
  },
  {
   "cell_type": "code",
   "execution_count": 7,
   "id": "c7614484",
   "metadata": {
    "execution": {
     "iopub.execute_input": "2025-04-03T23:39:29.585795Z",
     "iopub.status.busy": "2025-04-03T23:39:29.585373Z",
     "iopub.status.idle": "2025-04-03T23:39:29.593013Z",
     "shell.execute_reply": "2025-04-03T23:39:29.592044Z"
    },
    "papermill": {
     "duration": 0.019363,
     "end_time": "2025-04-03T23:39:29.594704",
     "exception": false,
     "start_time": "2025-04-03T23:39:29.575341",
     "status": "completed"
    },
    "tags": []
   },
   "outputs": [
    {
     "data": {
      "text/plain": [
       "0.19865319865319866"
      ]
     },
     "execution_count": 7,
     "metadata": {},
     "output_type": "execute_result"
    }
   ],
   "source": [
    "train_df[train_df.Age != train_df.Age].shape[0] / train_df.shape[0]"
   ]
  },
  {
   "cell_type": "markdown",
   "id": "02c28332",
   "metadata": {
    "papermill": {
     "duration": 0.011108,
     "end_time": "2025-04-03T23:39:29.621246",
     "exception": false,
     "start_time": "2025-04-03T23:39:29.610138",
     "status": "completed"
    },
    "tags": []
   },
   "source": [
    "20% of null values for age is too much data, we shall impute. For this we will use the median value by sex and pclass"
   ]
  },
  {
   "cell_type": "code",
   "execution_count": 8,
   "id": "fca43513",
   "metadata": {
    "execution": {
     "iopub.execute_input": "2025-04-03T23:39:29.654143Z",
     "iopub.status.busy": "2025-04-03T23:39:29.653509Z",
     "iopub.status.idle": "2025-04-03T23:39:29.702042Z",
     "shell.execute_reply": "2025-04-03T23:39:29.699757Z"
    },
    "papermill": {
     "duration": 0.073169,
     "end_time": "2025-04-03T23:39:29.705662",
     "exception": false,
     "start_time": "2025-04-03T23:39:29.632493",
     "status": "completed"
    },
    "tags": []
   },
   "outputs": [
    {
     "name": "stderr",
     "output_type": "stream",
     "text": [
      "/usr/local/lib/python3.10/dist-packages/pandas/io/formats/format.py:1458: RuntimeWarning: invalid value encountered in greater\n",
      "  has_large_values = (abs_vals > 1e6).any()\n",
      "/usr/local/lib/python3.10/dist-packages/pandas/io/formats/format.py:1459: RuntimeWarning: invalid value encountered in less\n",
      "  has_small_values = ((abs_vals < 10 ** (-self.digits)) & (abs_vals > 0)).any()\n",
      "/usr/local/lib/python3.10/dist-packages/pandas/io/formats/format.py:1459: RuntimeWarning: invalid value encountered in greater\n",
      "  has_small_values = ((abs_vals < 10 ** (-self.digits)) & (abs_vals > 0)).any()\n"
     ]
    },
    {
     "data": {
      "text/html": [
       "<div>\n",
       "<style scoped>\n",
       "    .dataframe tbody tr th:only-of-type {\n",
       "        vertical-align: middle;\n",
       "    }\n",
       "\n",
       "    .dataframe tbody tr th {\n",
       "        vertical-align: top;\n",
       "    }\n",
       "\n",
       "    .dataframe thead th {\n",
       "        text-align: right;\n",
       "    }\n",
       "</style>\n",
       "<table border=\"1\" class=\"dataframe\">\n",
       "  <thead>\n",
       "    <tr style=\"text-align: right;\">\n",
       "      <th></th>\n",
       "      <th>PassengerId</th>\n",
       "      <th>Survived</th>\n",
       "      <th>Pclass</th>\n",
       "      <th>Name</th>\n",
       "      <th>Sex</th>\n",
       "      <th>Age</th>\n",
       "      <th>SibSp</th>\n",
       "      <th>Parch</th>\n",
       "      <th>Ticket</th>\n",
       "      <th>Fare</th>\n",
       "      <th>Cabin</th>\n",
       "      <th>Embarked</th>\n",
       "    </tr>\n",
       "  </thead>\n",
       "  <tbody>\n",
       "    <tr>\n",
       "      <th>5</th>\n",
       "      <td>6</td>\n",
       "      <td>0</td>\n",
       "      <td>3</td>\n",
       "      <td>Moran, Mr. James</td>\n",
       "      <td>male</td>\n",
       "      <td>NaN</td>\n",
       "      <td>0</td>\n",
       "      <td>0</td>\n",
       "      <td>330877</td>\n",
       "      <td>8.4583</td>\n",
       "      <td>NaN</td>\n",
       "      <td>Q</td>\n",
       "    </tr>\n",
       "    <tr>\n",
       "      <th>17</th>\n",
       "      <td>18</td>\n",
       "      <td>1</td>\n",
       "      <td>2</td>\n",
       "      <td>Williams, Mr. Charles Eugene</td>\n",
       "      <td>male</td>\n",
       "      <td>NaN</td>\n",
       "      <td>0</td>\n",
       "      <td>0</td>\n",
       "      <td>244373</td>\n",
       "      <td>13.0000</td>\n",
       "      <td>NaN</td>\n",
       "      <td>S</td>\n",
       "    </tr>\n",
       "    <tr>\n",
       "      <th>19</th>\n",
       "      <td>20</td>\n",
       "      <td>1</td>\n",
       "      <td>3</td>\n",
       "      <td>Masselmani, Mrs. Fatima</td>\n",
       "      <td>female</td>\n",
       "      <td>NaN</td>\n",
       "      <td>0</td>\n",
       "      <td>0</td>\n",
       "      <td>2649</td>\n",
       "      <td>7.2250</td>\n",
       "      <td>NaN</td>\n",
       "      <td>C</td>\n",
       "    </tr>\n",
       "    <tr>\n",
       "      <th>26</th>\n",
       "      <td>27</td>\n",
       "      <td>0</td>\n",
       "      <td>3</td>\n",
       "      <td>Emir, Mr. Farred Chehab</td>\n",
       "      <td>male</td>\n",
       "      <td>NaN</td>\n",
       "      <td>0</td>\n",
       "      <td>0</td>\n",
       "      <td>2631</td>\n",
       "      <td>7.2250</td>\n",
       "      <td>NaN</td>\n",
       "      <td>C</td>\n",
       "    </tr>\n",
       "    <tr>\n",
       "      <th>28</th>\n",
       "      <td>29</td>\n",
       "      <td>1</td>\n",
       "      <td>3</td>\n",
       "      <td>O'Dwyer, Miss. Ellen \"Nellie\"</td>\n",
       "      <td>female</td>\n",
       "      <td>NaN</td>\n",
       "      <td>0</td>\n",
       "      <td>0</td>\n",
       "      <td>330959</td>\n",
       "      <td>7.8792</td>\n",
       "      <td>NaN</td>\n",
       "      <td>Q</td>\n",
       "    </tr>\n",
       "    <tr>\n",
       "      <th>...</th>\n",
       "      <td>...</td>\n",
       "      <td>...</td>\n",
       "      <td>...</td>\n",
       "      <td>...</td>\n",
       "      <td>...</td>\n",
       "      <td>...</td>\n",
       "      <td>...</td>\n",
       "      <td>...</td>\n",
       "      <td>...</td>\n",
       "      <td>...</td>\n",
       "      <td>...</td>\n",
       "      <td>...</td>\n",
       "    </tr>\n",
       "    <tr>\n",
       "      <th>859</th>\n",
       "      <td>860</td>\n",
       "      <td>0</td>\n",
       "      <td>3</td>\n",
       "      <td>Razi, Mr. Raihed</td>\n",
       "      <td>male</td>\n",
       "      <td>NaN</td>\n",
       "      <td>0</td>\n",
       "      <td>0</td>\n",
       "      <td>2629</td>\n",
       "      <td>7.2292</td>\n",
       "      <td>NaN</td>\n",
       "      <td>C</td>\n",
       "    </tr>\n",
       "    <tr>\n",
       "      <th>863</th>\n",
       "      <td>864</td>\n",
       "      <td>0</td>\n",
       "      <td>3</td>\n",
       "      <td>Sage, Miss. Dorothy Edith \"Dolly\"</td>\n",
       "      <td>female</td>\n",
       "      <td>NaN</td>\n",
       "      <td>8</td>\n",
       "      <td>2</td>\n",
       "      <td>CA. 2343</td>\n",
       "      <td>69.5500</td>\n",
       "      <td>NaN</td>\n",
       "      <td>S</td>\n",
       "    </tr>\n",
       "    <tr>\n",
       "      <th>868</th>\n",
       "      <td>869</td>\n",
       "      <td>0</td>\n",
       "      <td>3</td>\n",
       "      <td>van Melkebeke, Mr. Philemon</td>\n",
       "      <td>male</td>\n",
       "      <td>NaN</td>\n",
       "      <td>0</td>\n",
       "      <td>0</td>\n",
       "      <td>345777</td>\n",
       "      <td>9.5000</td>\n",
       "      <td>NaN</td>\n",
       "      <td>S</td>\n",
       "    </tr>\n",
       "    <tr>\n",
       "      <th>878</th>\n",
       "      <td>879</td>\n",
       "      <td>0</td>\n",
       "      <td>3</td>\n",
       "      <td>Laleff, Mr. Kristo</td>\n",
       "      <td>male</td>\n",
       "      <td>NaN</td>\n",
       "      <td>0</td>\n",
       "      <td>0</td>\n",
       "      <td>349217</td>\n",
       "      <td>7.8958</td>\n",
       "      <td>NaN</td>\n",
       "      <td>S</td>\n",
       "    </tr>\n",
       "    <tr>\n",
       "      <th>888</th>\n",
       "      <td>889</td>\n",
       "      <td>0</td>\n",
       "      <td>3</td>\n",
       "      <td>Johnston, Miss. Catherine Helen \"Carrie\"</td>\n",
       "      <td>female</td>\n",
       "      <td>NaN</td>\n",
       "      <td>1</td>\n",
       "      <td>2</td>\n",
       "      <td>W./C. 6607</td>\n",
       "      <td>23.4500</td>\n",
       "      <td>NaN</td>\n",
       "      <td>S</td>\n",
       "    </tr>\n",
       "  </tbody>\n",
       "</table>\n",
       "<p>177 rows × 12 columns</p>\n",
       "</div>"
      ],
      "text/plain": [
       "     PassengerId  Survived  Pclass                                      Name  \\\n",
       "5              6         0       3                          Moran, Mr. James   \n",
       "17            18         1       2              Williams, Mr. Charles Eugene   \n",
       "19            20         1       3                   Masselmani, Mrs. Fatima   \n",
       "26            27         0       3                   Emir, Mr. Farred Chehab   \n",
       "28            29         1       3             O'Dwyer, Miss. Ellen \"Nellie\"   \n",
       "..           ...       ...     ...                                       ...   \n",
       "859          860         0       3                          Razi, Mr. Raihed   \n",
       "863          864         0       3         Sage, Miss. Dorothy Edith \"Dolly\"   \n",
       "868          869         0       3               van Melkebeke, Mr. Philemon   \n",
       "878          879         0       3                        Laleff, Mr. Kristo   \n",
       "888          889         0       3  Johnston, Miss. Catherine Helen \"Carrie\"   \n",
       "\n",
       "        Sex  Age  SibSp  Parch      Ticket     Fare Cabin Embarked  \n",
       "5      male  NaN      0      0      330877   8.4583   NaN        Q  \n",
       "17     male  NaN      0      0      244373  13.0000   NaN        S  \n",
       "19   female  NaN      0      0        2649   7.2250   NaN        C  \n",
       "26     male  NaN      0      0        2631   7.2250   NaN        C  \n",
       "28   female  NaN      0      0      330959   7.8792   NaN        Q  \n",
       "..      ...  ...    ...    ...         ...      ...   ...      ...  \n",
       "859    male  NaN      0      0        2629   7.2292   NaN        C  \n",
       "863  female  NaN      8      2    CA. 2343  69.5500   NaN        S  \n",
       "868    male  NaN      0      0      345777   9.5000   NaN        S  \n",
       "878    male  NaN      0      0      349217   7.8958   NaN        S  \n",
       "888  female  NaN      1      2  W./C. 6607  23.4500   NaN        S  \n",
       "\n",
       "[177 rows x 12 columns]"
      ]
     },
     "execution_count": 8,
     "metadata": {},
     "output_type": "execute_result"
    }
   ],
   "source": [
    "train_df[train_df.Age != train_df.Age]"
   ]
  },
  {
   "cell_type": "code",
   "execution_count": 9,
   "id": "0239e3d7",
   "metadata": {
    "execution": {
     "iopub.execute_input": "2025-04-03T23:39:29.735239Z",
     "iopub.status.busy": "2025-04-03T23:39:29.734571Z",
     "iopub.status.idle": "2025-04-03T23:39:29.827037Z",
     "shell.execute_reply": "2025-04-03T23:39:29.825399Z"
    },
    "papermill": {
     "duration": 0.113619,
     "end_time": "2025-04-03T23:39:29.829657",
     "exception": false,
     "start_time": "2025-04-03T23:39:29.716038",
     "status": "completed"
    },
    "tags": []
   },
   "outputs": [],
   "source": [
    "grouped_medians = train_df.groupby(['Pclass', 'Sex'])['Age'].median()\n",
    "\n",
    "def impute_age(row):\n",
    "    if pd.isna(row['Age']): # If age is NaN, then the median is added\n",
    "        row['Age'] = grouped_medians[row['Pclass'],row['Sex']]\n",
    "    return row\n",
    "    \n",
    "train_df = train_df.apply(impute_age, axis = 1)"
   ]
  },
  {
   "cell_type": "code",
   "execution_count": 10,
   "id": "df27e513",
   "metadata": {
    "execution": {
     "iopub.execute_input": "2025-04-03T23:39:29.854638Z",
     "iopub.status.busy": "2025-04-03T23:39:29.854188Z",
     "iopub.status.idle": "2025-04-03T23:39:29.866365Z",
     "shell.execute_reply": "2025-04-03T23:39:29.864885Z"
    },
    "papermill": {
     "duration": 0.028315,
     "end_time": "2025-04-03T23:39:29.868852",
     "exception": false,
     "start_time": "2025-04-03T23:39:29.840537",
     "status": "completed"
    },
    "tags": []
   },
   "outputs": [
    {
     "data": {
      "text/plain": [
       "0.7710437710437711"
      ]
     },
     "execution_count": 10,
     "metadata": {},
     "output_type": "execute_result"
    }
   ],
   "source": [
    "train_df[train_df.Cabin != train_df.Cabin].shape[0] / train_df.shape[0]"
   ]
  },
  {
   "cell_type": "markdown",
   "id": "4a9d0fc2",
   "metadata": {
    "papermill": {
     "duration": 0.021298,
     "end_time": "2025-04-03T23:39:29.901629",
     "exception": false,
     "start_time": "2025-04-03T23:39:29.880331",
     "status": "completed"
    },
    "tags": []
   },
   "source": [
    "77% is too much null data, so Cabin is dropped."
   ]
  },
  {
   "cell_type": "code",
   "execution_count": 11,
   "id": "a39b6036",
   "metadata": {
    "execution": {
     "iopub.execute_input": "2025-04-03T23:39:29.932796Z",
     "iopub.status.busy": "2025-04-03T23:39:29.932246Z",
     "iopub.status.idle": "2025-04-03T23:39:29.942124Z",
     "shell.execute_reply": "2025-04-03T23:39:29.940972Z"
    },
    "papermill": {
     "duration": 0.026836,
     "end_time": "2025-04-03T23:39:29.944077",
     "exception": false,
     "start_time": "2025-04-03T23:39:29.917241",
     "status": "completed"
    },
    "tags": []
   },
   "outputs": [],
   "source": [
    "train_df = train_df.drop(columns=['Cabin'])"
   ]
  },
  {
   "cell_type": "code",
   "execution_count": 12,
   "id": "b525d468",
   "metadata": {
    "execution": {
     "iopub.execute_input": "2025-04-03T23:39:29.967948Z",
     "iopub.status.busy": "2025-04-03T23:39:29.967477Z",
     "iopub.status.idle": "2025-04-03T23:39:30.240526Z",
     "shell.execute_reply": "2025-04-03T23:39:30.239025Z"
    },
    "papermill": {
     "duration": 0.286969,
     "end_time": "2025-04-03T23:39:30.242514",
     "exception": false,
     "start_time": "2025-04-03T23:39:29.955545",
     "status": "completed"
    },
    "tags": []
   },
   "outputs": [
    {
     "data": {
      "text/plain": [
       "<Axes: >"
      ]
     },
     "execution_count": 12,
     "metadata": {},
     "output_type": "execute_result"
    },
    {
     "data": {
      "image/png": "[encoded data removed]",
      "text/plain": [
       "<Figure size 640x480 with 1 Axes>"
      ]
     },
     "metadata": {},
     "output_type": "display_data"
    }
   ],
   "source": [
    "train_df.Fare.hist()"
   ]
  },
  {
   "cell_type": "code",
   "execution_count": 13,
   "id": "8eb7aca5",
   "metadata": {
    "execution": {
     "iopub.execute_input": "2025-04-03T23:39:30.265632Z",
     "iopub.status.busy": "2025-04-03T23:39:30.265211Z",
     "iopub.status.idle": "2025-04-03T23:39:30.275557Z",
     "shell.execute_reply": "2025-04-03T23:39:30.274043Z"
    },
    "papermill": {
     "duration": 0.024696,
     "end_time": "2025-04-03T23:39:30.277811",
     "exception": false,
     "start_time": "2025-04-03T23:39:30.253115",
     "status": "completed"
    },
    "tags": []
   },
   "outputs": [
    {
     "data": {
      "text/plain": [
       "Embarked\n",
       "S    29\n",
       "C    19\n",
       "Name: count, dtype: int64"
      ]
     },
     "execution_count": 13,
     "metadata": {},
     "output_type": "execute_result"
    }
   ],
   "source": [
    "train_df[(train_df.Fare > 65) & (train_df.Fare < 85)]['Embarked'].value_counts()"
   ]
  },
  {
   "cell_type": "code",
   "execution_count": 14,
   "id": "af21fcaf",
   "metadata": {
    "execution": {
     "iopub.execute_input": "2025-04-03T23:39:30.301984Z",
     "iopub.status.busy": "2025-04-03T23:39:30.301470Z",
     "iopub.status.idle": "2025-04-03T23:39:30.310418Z",
     "shell.execute_reply": "2025-04-03T23:39:30.309280Z"
    },
    "papermill": {
     "duration": 0.023474,
     "end_time": "2025-04-03T23:39:30.312295",
     "exception": false,
     "start_time": "2025-04-03T23:39:30.288821",
     "status": "completed"
    },
    "tags": []
   },
   "outputs": [
    {
     "data": {
      "text/plain": [
       "Embarked\n",
       "S    644\n",
       "C    168\n",
       "Q     77\n",
       "Name: count, dtype: int64"
      ]
     },
     "execution_count": 14,
     "metadata": {},
     "output_type": "execute_result"
    }
   ],
   "source": [
    "train_df['Embarked'].value_counts()"
   ]
  },
  {
   "cell_type": "code",
   "execution_count": 15,
   "id": "d961688e",
   "metadata": {
    "execution": {
     "iopub.execute_input": "2025-04-03T23:39:30.334689Z",
     "iopub.status.busy": "2025-04-03T23:39:30.334313Z",
     "iopub.status.idle": "2025-04-03T23:39:30.635282Z",
     "shell.execute_reply": "2025-04-03T23:39:30.633774Z"
    },
    "papermill": {
     "duration": 0.314822,
     "end_time": "2025-04-03T23:39:30.637629",
     "exception": false,
     "start_time": "2025-04-03T23:39:30.322807",
     "status": "completed"
    },
    "tags": []
   },
   "outputs": [
    {
     "data": {
      "text/plain": [
       "<Axes: xlabel='Embarked', ylabel='Fare'>"
      ]
     },
     "execution_count": 15,
     "metadata": {},
     "output_type": "execute_result"
    },
    {
     "data": {
      "image/png": "[encoded data removed]",
      "text/plain": [
       "<Figure size 640x480 with 1 Axes>"
      ]
     },
     "metadata": {},
     "output_type": "display_data"
    }
   ],
   "source": [
    "sns.boxplot(x=\"Embarked\", y=\"Fare\",\n",
    "            data=train_df)"
   ]
  },
  {
   "cell_type": "markdown",
   "id": "cd3d975f",
   "metadata": {
    "papermill": {
     "duration": 0.011072,
     "end_time": "2025-04-03T23:39:30.666088",
     "exception": false,
     "start_time": "2025-04-03T23:39:30.655016",
     "status": "completed"
    },
    "tags": []
   },
   "source": [
    "After seeing the distribution we can impute the mode in the missing values of Embarked.\n",
    "\n",
    "---\n",
    "\n",
    "### Correlation"
   ]
  },
  {
   "cell_type": "code",
   "execution_count": 16,
   "id": "325b7feb",
   "metadata": {
    "execution": {
     "iopub.execute_input": "2025-04-03T23:39:30.706778Z",
     "iopub.status.busy": "2025-04-03T23:39:30.706368Z",
     "iopub.status.idle": "2025-04-03T23:39:30.723713Z",
     "shell.execute_reply": "2025-04-03T23:39:30.722361Z"
    },
    "papermill": {
     "duration": 0.041627,
     "end_time": "2025-04-03T23:39:30.725621",
     "exception": false,
     "start_time": "2025-04-03T23:39:30.683994",
     "status": "completed"
    },
    "tags": []
   },
   "outputs": [
    {
     "data": {
      "text/html": [
       "<div>\n",
       "<style scoped>\n",
       "    .dataframe tbody tr th:only-of-type {\n",
       "        vertical-align: middle;\n",
       "    }\n",
       "\n",
       "    .dataframe tbody tr th {\n",
       "        vertical-align: top;\n",
       "    }\n",
       "\n",
       "    .dataframe thead th {\n",
       "        text-align: right;\n",
       "    }\n",
       "</style>\n",
       "<table border=\"1\" class=\"dataframe\">\n",
       "  <thead>\n",
       "    <tr style=\"text-align: right;\">\n",
       "      <th></th>\n",
       "      <th>PassengerId</th>\n",
       "      <th>Survived</th>\n",
       "      <th>Pclass</th>\n",
       "      <th>Age</th>\n",
       "      <th>SibSp</th>\n",
       "      <th>Parch</th>\n",
       "      <th>Fare</th>\n",
       "    </tr>\n",
       "  </thead>\n",
       "  <tbody>\n",
       "    <tr>\n",
       "      <th>PassengerId</th>\n",
       "      <td>1.000000</td>\n",
       "      <td>-0.005007</td>\n",
       "      <td>-0.035144</td>\n",
       "      <td>0.039033</td>\n",
       "      <td>-0.057527</td>\n",
       "      <td>-0.001652</td>\n",
       "      <td>0.012658</td>\n",
       "    </tr>\n",
       "    <tr>\n",
       "      <th>Survived</th>\n",
       "      <td>-0.005007</td>\n",
       "      <td>1.000000</td>\n",
       "      <td>-0.338481</td>\n",
       "      <td>-0.059579</td>\n",
       "      <td>-0.035322</td>\n",
       "      <td>0.081629</td>\n",
       "      <td>0.257307</td>\n",
       "    </tr>\n",
       "    <tr>\n",
       "      <th>Pclass</th>\n",
       "      <td>-0.035144</td>\n",
       "      <td>-0.338481</td>\n",
       "      <td>1.000000</td>\n",
       "      <td>-0.413583</td>\n",
       "      <td>0.083081</td>\n",
       "      <td>0.018443</td>\n",
       "      <td>-0.549500</td>\n",
       "    </tr>\n",
       "    <tr>\n",
       "      <th>Age</th>\n",
       "      <td>0.039033</td>\n",
       "      <td>-0.059579</td>\n",
       "      <td>-0.413583</td>\n",
       "      <td>1.000000</td>\n",
       "      <td>-0.249854</td>\n",
       "      <td>-0.175526</td>\n",
       "      <td>0.122692</td>\n",
       "    </tr>\n",
       "    <tr>\n",
       "      <th>SibSp</th>\n",
       "      <td>-0.057527</td>\n",
       "      <td>-0.035322</td>\n",
       "      <td>0.083081</td>\n",
       "      <td>-0.249854</td>\n",
       "      <td>1.000000</td>\n",
       "      <td>0.414838</td>\n",
       "      <td>0.159651</td>\n",
       "    </tr>\n",
       "    <tr>\n",
       "      <th>Parch</th>\n",
       "      <td>-0.001652</td>\n",
       "      <td>0.081629</td>\n",
       "      <td>0.018443</td>\n",
       "      <td>-0.175526</td>\n",
       "      <td>0.414838</td>\n",
       "      <td>1.000000</td>\n",
       "      <td>0.216225</td>\n",
       "    </tr>\n",
       "    <tr>\n",
       "      <th>Fare</th>\n",
       "      <td>0.012658</td>\n",
       "      <td>0.257307</td>\n",
       "      <td>-0.549500</td>\n",
       "      <td>0.122692</td>\n",
       "      <td>0.159651</td>\n",
       "      <td>0.216225</td>\n",
       "      <td>1.000000</td>\n",
       "    </tr>\n",
       "  </tbody>\n",
       "</table>\n",
       "</div>"
      ],
      "text/plain": [
       "             PassengerId  Survived    Pclass       Age     SibSp     Parch  \\\n",
       "PassengerId     1.000000 -0.005007 -0.035144  0.039033 -0.057527 -0.001652   \n",
       "Survived       -0.005007  1.000000 -0.338481 -0.059579 -0.035322  0.081629   \n",
       "Pclass         -0.035144 -0.338481  1.000000 -0.413583  0.083081  0.018443   \n",
       "Age             0.039033 -0.059579 -0.413583  1.000000 -0.249854 -0.175526   \n",
       "SibSp          -0.057527 -0.035322  0.083081 -0.249854  1.000000  0.414838   \n",
       "Parch          -0.001652  0.081629  0.018443 -0.175526  0.414838  1.000000   \n",
       "Fare            0.012658  0.257307 -0.549500  0.122692  0.159651  0.216225   \n",
       "\n",
       "                 Fare  \n",
       "PassengerId  0.012658  \n",
       "Survived     0.257307  \n",
       "Pclass      -0.549500  \n",
       "Age          0.122692  \n",
       "SibSp        0.159651  \n",
       "Parch        0.216225  \n",
       "Fare         1.000000  "
      ]
     },
     "execution_count": 16,
     "metadata": {},
     "output_type": "execute_result"
    }
   ],
   "source": [
    "train_df.select_dtypes(include='number').corr()"
   ]
  },
  {
   "cell_type": "markdown",
   "id": "a811e30e",
   "metadata": {
    "papermill": {
     "duration": 0.011168,
     "end_time": "2025-04-03T23:39:30.748466",
     "exception": false,
     "start_time": "2025-04-03T23:39:30.737298",
     "status": "completed"
    },
    "tags": []
   },
   "source": [
    "No high correlation with Survided"
   ]
  },
  {
   "cell_type": "code",
   "execution_count": 17,
   "id": "5539dfcd",
   "metadata": {
    "execution": {
     "iopub.execute_input": "2025-04-03T23:39:30.775128Z",
     "iopub.status.busy": "2025-04-03T23:39:30.774717Z",
     "iopub.status.idle": "2025-04-03T23:39:31.006203Z",
     "shell.execute_reply": "2025-04-03T23:39:31.004750Z"
    },
    "papermill": {
     "duration": 0.247796,
     "end_time": "2025-04-03T23:39:31.009348",
     "exception": false,
     "start_time": "2025-04-03T23:39:30.761552",
     "status": "completed"
    },
    "tags": []
   },
   "outputs": [
    {
     "data": {
      "image/png": "[encoded data removed]",
      "text/plain": [
       "<Figure size 640x480 with 1 Axes>"
      ]
     },
     "metadata": {},
     "output_type": "display_data"
    }
   ],
   "source": [
    "sns.countplot(\n",
    "    data=train_df, \n",
    "    x=\"Survived\", \n",
    "    hue=\"Pclass\"\n",
    ")\n",
    "plt.title('Survived by Pclass')\n",
    "plt.show()"
   ]
  },
  {
   "cell_type": "markdown",
   "id": "f30013e5",
   "metadata": {
    "papermill": {
     "duration": 0.014863,
     "end_time": "2025-04-03T23:39:31.039038",
     "exception": false,
     "start_time": "2025-04-03T23:39:31.024175",
     "status": "completed"
    },
    "tags": []
   },
   "source": [
    "There's a tendency due to the larger amount on Pclass 3"
   ]
  },
  {
   "cell_type": "code",
   "execution_count": 18,
   "id": "bc6f680f",
   "metadata": {
    "execution": {
     "iopub.execute_input": "2025-04-03T23:39:31.066277Z",
     "iopub.status.busy": "2025-04-03T23:39:31.065884Z",
     "iopub.status.idle": "2025-04-03T23:39:31.072891Z",
     "shell.execute_reply": "2025-04-03T23:39:31.071368Z"
    },
    "papermill": {
     "duration": 0.022343,
     "end_time": "2025-04-03T23:39:31.075134",
     "exception": false,
     "start_time": "2025-04-03T23:39:31.052791",
     "status": "completed"
    },
    "tags": []
   },
   "outputs": [],
   "source": [
    "# Name is dropped \n",
    "train_df.drop('Name', axis = 1, inplace = True)"
   ]
  },
  {
   "cell_type": "code",
   "execution_count": 19,
   "id": "8ceeb357",
   "metadata": {
    "execution": {
     "iopub.execute_input": "2025-04-03T23:39:31.102363Z",
     "iopub.status.busy": "2025-04-03T23:39:31.101853Z",
     "iopub.status.idle": "2025-04-03T23:39:31.298159Z",
     "shell.execute_reply": "2025-04-03T23:39:31.296817Z"
    },
    "papermill": {
     "duration": 0.211711,
     "end_time": "2025-04-03T23:39:31.300117",
     "exception": false,
     "start_time": "2025-04-03T23:39:31.088406",
     "status": "completed"
    },
    "tags": []
   },
   "outputs": [
    {
     "data": {
      "image/png": "[encoded data removed]",
      "text/plain": [
       "<Figure size 640x480 with 1 Axes>"
      ]
     },
     "metadata": {},
     "output_type": "display_data"
    }
   ],
   "source": [
    "sns.countplot(\n",
    "    data=train_df, \n",
    "    x=\"Survived\", \n",
    "    hue=\"Sex\"\n",
    ")\n",
    "plt.title('Survived by Sex')\n",
    "plt.show()"
   ]
  },
  {
   "cell_type": "markdown",
   "id": "e6112db8",
   "metadata": {
    "papermill": {
     "duration": 0.012442,
     "end_time": "2025-04-03T23:39:31.325655",
     "exception": false,
     "start_time": "2025-04-03T23:39:31.313213",
     "status": "completed"
    },
    "tags": []
   },
   "source": [
    "Females tend to survive more"
   ]
  },
  {
   "cell_type": "code",
   "execution_count": 20,
   "id": "fd300005",
   "metadata": {
    "execution": {
     "iopub.execute_input": "2025-04-03T23:39:31.354099Z",
     "iopub.status.busy": "2025-04-03T23:39:31.353584Z",
     "iopub.status.idle": "2025-04-03T23:39:31.624325Z",
     "shell.execute_reply": "2025-04-03T23:39:31.622920Z"
    },
    "papermill": {
     "duration": 0.286472,
     "end_time": "2025-04-03T23:39:31.626313",
     "exception": false,
     "start_time": "2025-04-03T23:39:31.339841",
     "status": "completed"
    },
    "tags": []
   },
   "outputs": [
    {
     "data": {
      "image/png": "[encoded data removed]",
      "text/plain": [
       "<Figure size 640x480 with 1 Axes>"
      ]
     },
     "metadata": {},
     "output_type": "display_data"
    }
   ],
   "source": [
    "# Lets see Sex + Pclass\n",
    "train_df['Class_Sex'] = train_df['Sex'] + \"-\" + train_df['Pclass'].astype(str)\n",
    "\n",
    "sns.countplot(\n",
    "    data=train_df, \n",
    "    x=\"Survived\", \n",
    "    hue=\"Class_Sex\"\n",
    ")\n",
    "plt.title('Survived by Class & Sex')\n",
    "plt.show()"
   ]
  },
  {
   "cell_type": "code",
   "execution_count": 21,
   "id": "8f17d702",
   "metadata": {
    "execution": {
     "iopub.execute_input": "2025-04-03T23:39:31.655014Z",
     "iopub.status.busy": "2025-04-03T23:39:31.654477Z",
     "iopub.status.idle": "2025-04-03T23:39:31.889754Z",
     "shell.execute_reply": "2025-04-03T23:39:31.888496Z"
    },
    "papermill": {
     "duration": 0.252547,
     "end_time": "2025-04-03T23:39:31.891776",
     "exception": false,
     "start_time": "2025-04-03T23:39:31.639229",
     "status": "completed"
    },
    "tags": []
   },
   "outputs": [
    {
     "data": {
      "text/plain": [
       "<Axes: >"
      ]
     },
     "execution_count": 21,
     "metadata": {},
     "output_type": "execute_result"
    },
    {
     "data": {
      "image/png": "[encoded data removed]",
      "text/plain": [
       "<Figure size 640x480 with 1 Axes>"
      ]
     },
     "metadata": {},
     "output_type": "display_data"
    }
   ],
   "source": [
    "train_df['SibSp'].hist()"
   ]
  },
  {
   "cell_type": "code",
   "execution_count": 22,
   "id": "9595ed9f",
   "metadata": {
    "execution": {
     "iopub.execute_input": "2025-04-03T23:39:31.921849Z",
     "iopub.status.busy": "2025-04-03T23:39:31.921303Z",
     "iopub.status.idle": "2025-04-03T23:39:32.194966Z",
     "shell.execute_reply": "2025-04-03T23:39:32.193445Z"
    },
    "papermill": {
     "duration": 0.29151,
     "end_time": "2025-04-03T23:39:32.197249",
     "exception": false,
     "start_time": "2025-04-03T23:39:31.905739",
     "status": "completed"
    },
    "tags": []
   },
   "outputs": [
    {
     "data": {
      "text/plain": [
       "<seaborn.axisgrid.FacetGrid at 0x7ccf9cfa1f00>"
      ]
     },
     "execution_count": 22,
     "metadata": {},
     "output_type": "execute_result"
    },
    {
     "data": {
      "image/png": "[encoded data removed]",
      "text/plain": [
       "<Figure size 500x500 with 1 Axes>"
      ]
     },
     "metadata": {},
     "output_type": "display_data"
    }
   ],
   "source": [
    "sns.catplot(\n",
    "    data = train_df,\n",
    "    x = 'Survived',\n",
    "    y = 'SibSp',\n",
    "    kind = 'box'\n",
    ")"
   ]
  },
  {
   "cell_type": "code",
   "execution_count": 23,
   "id": "289af64d",
   "metadata": {
    "execution": {
     "iopub.execute_input": "2025-04-03T23:39:32.229457Z",
     "iopub.status.busy": "2025-04-03T23:39:32.229026Z",
     "iopub.status.idle": "2025-04-03T23:39:32.476242Z",
     "shell.execute_reply": "2025-04-03T23:39:32.474855Z"
    },
    "papermill": {
     "duration": 0.264763,
     "end_time": "2025-04-03T23:39:32.478191",
     "exception": false,
     "start_time": "2025-04-03T23:39:32.213428",
     "status": "completed"
    },
    "tags": []
   },
   "outputs": [
    {
     "data": {
      "text/plain": [
       "<seaborn.axisgrid.FacetGrid at 0x7ccf9cf7c100>"
      ]
     },
     "execution_count": 23,
     "metadata": {},
     "output_type": "execute_result"
    },
    {
     "data": {
      "image/png": "[encoded data removed]",
      "text/plain": [
       "<Figure size 500x500 with 1 Axes>"
      ]
     },
     "metadata": {},
     "output_type": "display_data"
    }
   ],
   "source": [
    "sns.catplot(\n",
    "    data = train_df,\n",
    "    x = 'Survived',\n",
    "    y = 'Parch',\n",
    "    kind = 'box'\n",
    ")"
   ]
  },
  {
   "cell_type": "code",
   "execution_count": 24,
   "id": "b16179f5",
   "metadata": {
    "execution": {
     "iopub.execute_input": "2025-04-03T23:39:32.509455Z",
     "iopub.status.busy": "2025-04-03T23:39:32.509038Z",
     "iopub.status.idle": "2025-04-03T23:39:32.743096Z",
     "shell.execute_reply": "2025-04-03T23:39:32.741689Z"
    },
    "papermill": {
     "duration": 0.251804,
     "end_time": "2025-04-03T23:39:32.745359",
     "exception": false,
     "start_time": "2025-04-03T23:39:32.493555",
     "status": "completed"
    },
    "tags": []
   },
   "outputs": [
    {
     "data": {
      "text/plain": [
       "<seaborn.axisgrid.FacetGrid at 0x7ccfdfd25570>"
      ]
     },
     "execution_count": 24,
     "metadata": {},
     "output_type": "execute_result"
    },
    {
     "data": {
      "image/png": "[encoded data removed]",
      "text/plain": [
       "<Figure size 500x500 with 1 Axes>"
      ]
     },
     "metadata": {},
     "output_type": "display_data"
    }
   ],
   "source": [
    "sns.catplot(\n",
    "    data = train_df,\n",
    "    x = 'Survived',\n",
    "    y = 'Fare',\n",
    "    kind = 'box'\n",
    ")"
   ]
  },
  {
   "cell_type": "markdown",
   "id": "319b0d85",
   "metadata": {
    "papermill": {
     "duration": 0.015308,
     "end_time": "2025-04-03T23:39:32.777958",
     "exception": false,
     "start_time": "2025-04-03T23:39:32.762650",
     "status": "completed"
    },
    "tags": []
   },
   "source": [
    "Survivors tended to pay more money, this is similar to having a higher class (Pclass)"
   ]
  },
  {
   "cell_type": "code",
   "execution_count": 25,
   "id": "6c083e50",
   "metadata": {
    "execution": {
     "iopub.execute_input": "2025-04-03T23:39:32.810173Z",
     "iopub.status.busy": "2025-04-03T23:39:32.809794Z",
     "iopub.status.idle": "2025-04-03T23:39:32.816026Z",
     "shell.execute_reply": "2025-04-03T23:39:32.814756Z"
    },
    "papermill": {
     "duration": 0.025233,
     "end_time": "2025-04-03T23:39:32.818176",
     "exception": false,
     "start_time": "2025-04-03T23:39:32.792943",
     "status": "completed"
    },
    "tags": []
   },
   "outputs": [],
   "source": [
    "# Ticket number is dropped\n",
    "train_df.drop('Ticket', axis = 1, inplace = True)"
   ]
  },
  {
   "cell_type": "code",
   "execution_count": 26,
   "id": "75ba4489",
   "metadata": {
    "execution": {
     "iopub.execute_input": "2025-04-03T23:39:32.849192Z",
     "iopub.status.busy": "2025-04-03T23:39:32.848825Z",
     "iopub.status.idle": "2025-04-03T23:39:33.062571Z",
     "shell.execute_reply": "2025-04-03T23:39:33.061462Z"
    },
    "papermill": {
     "duration": 0.231456,
     "end_time": "2025-04-03T23:39:33.064673",
     "exception": false,
     "start_time": "2025-04-03T23:39:32.833217",
     "status": "completed"
    },
    "tags": []
   },
   "outputs": [
    {
     "data": {
      "image/png": "[encoded data removed]",
      "text/plain": [
       "<Figure size 640x480 with 1 Axes>"
      ]
     },
     "metadata": {},
     "output_type": "display_data"
    }
   ],
   "source": [
    "sns.countplot(\n",
    "    data=train_df, \n",
    "    x=\"Survived\", \n",
    "    hue=\"Embarked\"\n",
    ")\n",
    "plt.title('Survived by Sex')\n",
    "plt.show()"
   ]
  },
  {
   "cell_type": "markdown",
   "id": "c348e37d",
   "metadata": {
    "papermill": {
     "duration": 0.014089,
     "end_time": "2025-04-03T23:39:33.093425",
     "exception": false,
     "start_time": "2025-04-03T23:39:33.079336",
     "status": "completed"
    },
    "tags": []
   },
   "source": [
    "---\n",
    "ML Models"
   ]
  },
  {
   "cell_type": "code",
   "execution_count": 27,
   "id": "8a96e918",
   "metadata": {
    "execution": {
     "iopub.execute_input": "2025-04-03T23:39:33.124241Z",
     "iopub.status.busy": "2025-04-03T23:39:33.123768Z",
     "iopub.status.idle": "2025-04-03T23:39:33.921233Z",
     "shell.execute_reply": "2025-04-03T23:39:33.920077Z"
    },
    "papermill": {
     "duration": 0.815643,
     "end_time": "2025-04-03T23:39:33.923534",
     "exception": false,
     "start_time": "2025-04-03T23:39:33.107891",
     "status": "completed"
    },
    "tags": []
   },
   "outputs": [],
   "source": [
    "from sklearn.compose import ColumnTransformer\n",
    "from sklearn.pipeline import Pipeline\n",
    "from sklearn.impute import SimpleImputer\n",
    "from sklearn.ensemble import RandomForestClassifier\n",
    "from sklearn.model_selection import RandomizedSearchCV, train_test_split\n",
    "from sklearn.preprocessing import OneHotEncoder\n",
    "from sklearn.metrics import accuracy_score, classification_report, confusion_matrix, roc_auc_score"
   ]
  },
  {
   "cell_type": "code",
   "execution_count": 28,
   "id": "9c1fb1ac",
   "metadata": {
    "execution": {
     "iopub.execute_input": "2025-04-03T23:39:33.959328Z",
     "iopub.status.busy": "2025-04-03T23:39:33.958788Z",
     "iopub.status.idle": "2025-04-03T23:39:33.965979Z",
     "shell.execute_reply": "2025-04-03T23:39:33.964708Z"
    },
    "papermill": {
     "duration": 0.028537,
     "end_time": "2025-04-03T23:39:33.967949",
     "exception": false,
     "start_time": "2025-04-03T23:39:33.939412",
     "status": "completed"
    },
    "tags": []
   },
   "outputs": [],
   "source": [
    "# Columns accordingly to the imputation required\n",
    "median_cols = ['Age', 'Fare'] # Columns to impute the median\n",
    "mode_cols = ['Embarked'] # Columns to impute the mode\n",
    "cat_cols = ['Sex', 'Embarked']\n",
    "num_cols = ['Pclass', 'Age', 'SibSp', 'Parch', 'Fare']\n",
    "\n",
    "target_col = ['Survived']\n",
    "\n",
    "# Median imputation\n",
    "num_pipeline = Pipeline([\n",
    "    ('imputer', SimpleImputer(strategy='median'))\n",
    "])\n",
    "\n",
    "\n",
    "cat_pipeline = Pipeline([\n",
    "    ('imputer', SimpleImputer(strategy='most_frequent')), \n",
    "    ('onehot', OneHotEncoder(handle_unknown='ignore'))\n",
    "])\n",
    "\n",
    "preprocessor = ColumnTransformer(transformers=[\n",
    "    ('num', num_pipeline, num_cols),\n",
    "    ('cat', cat_pipeline, cat_cols)\n",
    "])\n",
    "\n",
    "# Pipeline\n",
    "pipeline = Pipeline(steps=[\n",
    "    ('preprocessing', preprocessor),\n",
    "    ('classifier', RandomForestClassifier(random_state=42))\n",
    "])"
   ]
  },
  {
   "cell_type": "markdown",
   "id": "023cebbf",
   "metadata": {
    "papermill": {
     "duration": 0.01465,
     "end_time": "2025-04-03T23:39:33.999339",
     "exception": false,
     "start_time": "2025-04-03T23:39:33.984689",
     "status": "completed"
    },
    "tags": []
   },
   "source": [
    "Preparing the training data set and test data set"
   ]
  },
  {
   "cell_type": "code",
   "execution_count": 29,
   "id": "9d45c8b7",
   "metadata": {
    "execution": {
     "iopub.execute_input": "2025-04-03T23:39:34.032337Z",
     "iopub.status.busy": "2025-04-03T23:39:34.031868Z",
     "iopub.status.idle": "2025-04-03T23:39:34.042398Z",
     "shell.execute_reply": "2025-04-03T23:39:34.040727Z"
    },
    "papermill": {
     "duration": 0.029531,
     "end_time": "2025-04-03T23:39:34.044468",
     "exception": false,
     "start_time": "2025-04-03T23:39:34.014937",
     "status": "completed"
    },
    "tags": []
   },
   "outputs": [],
   "source": [
    "X_train = train_df[cat_cols + num_cols]\n",
    "y_train = train_df[target_col]\n",
    "\n",
    "X_test = train_df[cat_cols + num_cols]\n",
    "y_test = train_df[target_col]"
   ]
  },
  {
   "cell_type": "code",
   "execution_count": 30,
   "id": "465ea29c",
   "metadata": {
    "execution": {
     "iopub.execute_input": "2025-04-03T23:39:34.077796Z",
     "iopub.status.busy": "2025-04-03T23:39:34.077340Z",
     "iopub.status.idle": "2025-04-03T23:39:55.914219Z",
     "shell.execute_reply": "2025-04-03T23:39:55.912750Z"
    },
    "papermill": {
     "duration": 21.856681,
     "end_time": "2025-04-03T23:39:55.916354",
     "exception": false,
     "start_time": "2025-04-03T23:39:34.059673",
     "status": "completed"
    },
    "tags": []
   },
   "outputs": [
    {
     "name": "stdout",
     "output_type": "stream",
     "text": [
      "Fitting 5 folds for each of 20 candidates, totalling 100 fits\n"
     ]
    },
    {
     "name": "stderr",
     "output_type": "stream",
     "text": [
      "/usr/local/lib/python3.10/dist-packages/sklearn/pipeline.py:405: DataConversionWarning: A column-vector y was passed when a 1d array was expected. Please change the shape of y to (n_samples,), for example using ravel().\n",
      "  self._final_estimator.fit(Xt, y, **fit_params_last_step)\n"
     ]
    },
    {
     "data": {
      "text/html": [
       "<style>#sk-container-id-1 {color: black;background-color: white;}#sk-container-id-1 pre{padding: 0;}#sk-container-id-1 div.sk-toggleable {background-color: white;}#sk-container-id-1 label.sk-toggleable__label {cursor: pointer;display: block;width: 100%;margin-bottom: 0;padding: 0.3em;box-sizing: border-box;text-align: center;}#sk-container-id-1 label.sk-toggleable__label-arrow:before {content: \"▸\";float: left;margin-right: 0.25em;color: #696969;}#sk-container-id-1 label.sk-toggleable__label-arrow:hover:before {color: black;}#sk-container-id-1 div.sk-estimator:hover label.sk-toggleable__label-arrow:before {color: black;}#sk-container-id-1 div.sk-toggleable__content {max-height: 0;max-width: 0;overflow: hidden;text-align: left;background-color: #f0f8ff;}#sk-container-id-1 div.sk-toggleable__content pre {margin: 0.2em;color: black;border-radius: 0.25em;background-color: #f0f8ff;}#sk-container-id-1 input.sk-toggleable__control:checked~div.sk-toggleable__content {max-height: 200px;max-width: 100%;overflow: auto;}#sk-container-id-1 input.sk-toggleable__control:checked~label.sk-toggleable__label-arrow:before {content: \"▾\";}#sk-container-id-1 div.sk-estimator input.sk-toggleable__control:checked~label.sk-toggleable__label {background-color: #d4ebff;}#sk-container-id-1 div.sk-label input.sk-toggleable__control:checked~label.sk-toggleable__label {background-color: #d4ebff;}#sk-container-id-1 input.sk-hidden--visually {border: 0;clip: rect(1px 1px 1px 1px);clip: rect(1px, 1px, 1px, 1px);height: 1px;margin: -1px;overflow: hidden;padding: 0;position: absolute;width: 1px;}#sk-container-id-1 div.sk-estimator {font-family: monospace;background-color: #f0f8ff;border: 1px dotted black;border-radius: 0.25em;box-sizing: border-box;margin-bottom: 0.5em;}#sk-container-id-1 div.sk-estimator:hover {background-color: #d4ebff;}#sk-container-id-1 div.sk-parallel-item::after {content: \"\";width: 100%;border-bottom: 1px solid gray;flex-grow: 1;}#sk-container-id-1 div.sk-label:hover label.sk-toggleable__label {background-color: #d4ebff;}#sk-container-id-1 div.sk-serial::before {content: \"\";position: absolute;border-left: 1px solid gray;box-sizing: border-box;top: 0;bottom: 0;left: 50%;z-index: 0;}#sk-container-id-1 div.sk-serial {display: flex;flex-direction: column;align-items: center;background-color: white;padding-right: 0.2em;padding-left: 0.2em;position: relative;}#sk-container-id-1 div.sk-item {position: relative;z-index: 1;}#sk-container-id-1 div.sk-parallel {display: flex;align-items: stretch;justify-content: center;background-color: white;position: relative;}#sk-container-id-1 div.sk-item::before, #sk-container-id-1 div.sk-parallel-item::before {content: \"\";position: absolute;border-left: 1px solid gray;box-sizing: border-box;top: 0;bottom: 0;left: 50%;z-index: -1;}#sk-container-id-1 div.sk-parallel-item {display: flex;flex-direction: column;z-index: 1;position: relative;background-color: white;}#sk-container-id-1 div.sk-parallel-item:first-child::after {align-self: flex-end;width: 50%;}#sk-container-id-1 div.sk-parallel-item:last-child::after {align-self: flex-start;width: 50%;}#sk-container-id-1 div.sk-parallel-item:only-child::after {width: 0;}#sk-container-id-1 div.sk-dashed-wrapped {border: 1px dashed gray;margin: 0 0.4em 0.5em 0.4em;box-sizing: border-box;padding-bottom: 0.4em;background-color: white;}#sk-container-id-1 div.sk-label label {font-family: monospace;font-weight: bold;display: inline-block;line-height: 1.2em;}#sk-container-id-1 div.sk-label-container {text-align: center;}#sk-container-id-1 div.sk-container {/* jupyter's `normalize.less` sets `[hidden] { display: none; }` but bootstrap.min.css set `[hidden] { display: none !important; }` so we also need the `!important` here to be able to override the default hidden behavior on the sphinx rendered scikit-learn.org. See: https://github.com/scikit-learn/scikit-learn/issues/21755 */display: inline-block !important;position: relative;}#sk-container-id-1 div.sk-text-repr-fallback {display: none;}</style><div id=\"sk-container-id-1\" class=\"sk-top-container\"><div class=\"sk-text-repr-fallback\"><pre>RandomizedSearchCV(cv=5,\n",
       "                   estimator=Pipeline(steps=[(&#x27;preprocessing&#x27;,\n",
       "                                              ColumnTransformer(transformers=[(&#x27;num&#x27;,\n",
       "                                                                               Pipeline(steps=[(&#x27;imputer&#x27;,\n",
       "                                                                                                SimpleImputer(strategy=&#x27;median&#x27;))]),\n",
       "                                                                               [&#x27;Pclass&#x27;,\n",
       "                                                                                &#x27;Age&#x27;,\n",
       "                                                                                &#x27;SibSp&#x27;,\n",
       "                                                                                &#x27;Parch&#x27;,\n",
       "                                                                                &#x27;Fare&#x27;]),\n",
       "                                                                              (&#x27;cat&#x27;,\n",
       "                                                                               Pipeline(steps=[(&#x27;imputer&#x27;,\n",
       "                                                                                                SimpleImputer(strategy=&#x27;most_frequent&#x27;)),\n",
       "                                                                                               (&#x27;onehot&#x27;,\n",
       "                                                                                                OneHotEncoder(handle_unknown=&#x27;ignore&#x27;))]),\n",
       "                                                                               [&#x27;Sex&#x27;,\n",
       "                                                                                &#x27;Embarked&#x27;])])),\n",
       "                                             (&#x27;classifier&#x27;,\n",
       "                                              RandomForestClassifier(random_state=42))]),\n",
       "                   n_iter=20, n_jobs=-1,\n",
       "                   param_distributions={&#x27;classifier__max_depth&#x27;: [None, 5, 10,\n",
       "                                                                  20],\n",
       "                                        &#x27;classifier__max_features&#x27;: [&#x27;sqrt&#x27;],\n",
       "                                        &#x27;classifier__min_samples_leaf&#x27;: [1, 2,\n",
       "                                                                         4],\n",
       "                                        &#x27;classifier__min_samples_split&#x27;: [2, 5,\n",
       "                                                                          10],\n",
       "                                        &#x27;classifier__n_estimators&#x27;: [100, 200,\n",
       "                                                                     300]},\n",
       "                   random_state=42, scoring=&#x27;accuracy&#x27;, verbose=1)</pre><b>In a Jupyter environment, please rerun this cell to show the HTML representation or trust the notebook. <br />On GitHub, the HTML representation is unable to render, please try loading this page with nbviewer.org.</b></div><div class=\"sk-container\" hidden><div class=\"sk-item sk-dashed-wrapped\"><div class=\"sk-label-container\"><div class=\"sk-label sk-toggleable\"><input class=\"sk-toggleable__control sk-hidden--visually\" id=\"sk-estimator-id-1\" type=\"checkbox\" ><label for=\"sk-estimator-id-1\" class=\"sk-toggleable__label sk-toggleable__label-arrow\">RandomizedSearchCV</label><div class=\"sk-toggleable__content\"><pre>RandomizedSearchCV(cv=5,\n",
       "                   estimator=Pipeline(steps=[(&#x27;preprocessing&#x27;,\n",
       "                                              ColumnTransformer(transformers=[(&#x27;num&#x27;,\n",
       "                                                                               Pipeline(steps=[(&#x27;imputer&#x27;,\n",
       "                                                                                                SimpleImputer(strategy=&#x27;median&#x27;))]),\n",
       "                                                                               [&#x27;Pclass&#x27;,\n",
       "                                                                                &#x27;Age&#x27;,\n",
       "                                                                                &#x27;SibSp&#x27;,\n",
       "                                                                                &#x27;Parch&#x27;,\n",
       "                                                                                &#x27;Fare&#x27;]),\n",
       "                                                                              (&#x27;cat&#x27;,\n",
       "                                                                               Pipeline(steps=[(&#x27;imputer&#x27;,\n",
       "                                                                                                SimpleImputer(strategy=&#x27;most_frequent&#x27;)),\n",
       "                                                                                               (&#x27;onehot&#x27;,\n",
       "                                                                                                OneHotEncoder(handle_unknown=&#x27;ignore&#x27;))]),\n",
       "                                                                               [&#x27;Sex&#x27;,\n",
       "                                                                                &#x27;Embarked&#x27;])])),\n",
       "                                             (&#x27;classifier&#x27;,\n",
       "                                              RandomForestClassifier(random_state=42))]),\n",
       "                   n_iter=20, n_jobs=-1,\n",
       "                   param_distributions={&#x27;classifier__max_depth&#x27;: [None, 5, 10,\n",
       "                                                                  20],\n",
       "                                        &#x27;classifier__max_features&#x27;: [&#x27;sqrt&#x27;],\n",
       "                                        &#x27;classifier__min_samples_leaf&#x27;: [1, 2,\n",
       "                                                                         4],\n",
       "                                        &#x27;classifier__min_samples_split&#x27;: [2, 5,\n",
       "                                                                          10],\n",
       "                                        &#x27;classifier__n_estimators&#x27;: [100, 200,\n",
       "                                                                     300]},\n",
       "                   random_state=42, scoring=&#x27;accuracy&#x27;, verbose=1)</pre></div></div></div><div class=\"sk-parallel\"><div class=\"sk-parallel-item\"><div class=\"sk-item\"><div class=\"sk-label-container\"><div class=\"sk-label sk-toggleable\"><input class=\"sk-toggleable__control sk-hidden--visually\" id=\"sk-estimator-id-2\" type=\"checkbox\" ><label for=\"sk-estimator-id-2\" class=\"sk-toggleable__label sk-toggleable__label-arrow\">estimator: Pipeline</label><div class=\"sk-toggleable__content\"><pre>Pipeline(steps=[(&#x27;preprocessing&#x27;,\n",
       "                 ColumnTransformer(transformers=[(&#x27;num&#x27;,\n",
       "                                                  Pipeline(steps=[(&#x27;imputer&#x27;,\n",
       "                                                                   SimpleImputer(strategy=&#x27;median&#x27;))]),\n",
       "                                                  [&#x27;Pclass&#x27;, &#x27;Age&#x27;, &#x27;SibSp&#x27;,\n",
       "                                                   &#x27;Parch&#x27;, &#x27;Fare&#x27;]),\n",
       "                                                 (&#x27;cat&#x27;,\n",
       "                                                  Pipeline(steps=[(&#x27;imputer&#x27;,\n",
       "                                                                   SimpleImputer(strategy=&#x27;most_frequent&#x27;)),\n",
       "                                                                  (&#x27;onehot&#x27;,\n",
       "                                                                   OneHotEncoder(handle_unknown=&#x27;ignore&#x27;))]),\n",
       "                                                  [&#x27;Sex&#x27;, &#x27;Embarked&#x27;])])),\n",
       "                (&#x27;classifier&#x27;, RandomForestClassifier(random_state=42))])</pre></div></div></div><div class=\"sk-serial\"><div class=\"sk-item\"><div class=\"sk-serial\"><div class=\"sk-item sk-dashed-wrapped\"><div class=\"sk-label-container\"><div class=\"sk-label sk-toggleable\"><input class=\"sk-toggleable__control sk-hidden--visually\" id=\"sk-estimator-id-3\" type=\"checkbox\" ><label for=\"sk-estimator-id-3\" class=\"sk-toggleable__label sk-toggleable__label-arrow\">preprocessing: ColumnTransformer</label><div class=\"sk-toggleable__content\"><pre>ColumnTransformer(transformers=[(&#x27;num&#x27;,\n",
       "                                 Pipeline(steps=[(&#x27;imputer&#x27;,\n",
       "                                                  SimpleImputer(strategy=&#x27;median&#x27;))]),\n",
       "                                 [&#x27;Pclass&#x27;, &#x27;Age&#x27;, &#x27;SibSp&#x27;, &#x27;Parch&#x27;, &#x27;Fare&#x27;]),\n",
       "                                (&#x27;cat&#x27;,\n",
       "                                 Pipeline(steps=[(&#x27;imputer&#x27;,\n",
       "                                                  SimpleImputer(strategy=&#x27;most_frequent&#x27;)),\n",
       "                                                 (&#x27;onehot&#x27;,\n",
       "                                                  OneHotEncoder(handle_unknown=&#x27;ignore&#x27;))]),\n",
       "                                 [&#x27;Sex&#x27;, &#x27;Embarked&#x27;])])</pre></div></div></div><div class=\"sk-parallel\"><div class=\"sk-parallel-item\"><div class=\"sk-item\"><div class=\"sk-label-container\"><div class=\"sk-label sk-toggleable\"><input class=\"sk-toggleable__control sk-hidden--visually\" id=\"sk-estimator-id-4\" type=\"checkbox\" ><label for=\"sk-estimator-id-4\" class=\"sk-toggleable__label sk-toggleable__label-arrow\">num</label><div class=\"sk-toggleable__content\"><pre>[&#x27;Pclass&#x27;, &#x27;Age&#x27;, &#x27;SibSp&#x27;, &#x27;Parch&#x27;, &#x27;Fare&#x27;]</pre></div></div></div><div class=\"sk-serial\"><div class=\"sk-item\"><div class=\"sk-serial\"><div class=\"sk-item\"><div class=\"sk-estimator sk-toggleable\"><input class=\"sk-toggleable__control sk-hidden--visually\" id=\"sk-estimator-id-5\" type=\"checkbox\" ><label for=\"sk-estimator-id-5\" class=\"sk-toggleable__label sk-toggleable__label-arrow\">SimpleImputer</label><div class=\"sk-toggleable__content\"><pre>SimpleImputer(strategy=&#x27;median&#x27;)</pre></div></div></div></div></div></div></div></div><div class=\"sk-parallel-item\"><div class=\"sk-item\"><div class=\"sk-label-container\"><div class=\"sk-label sk-toggleable\"><input class=\"sk-toggleable__control sk-hidden--visually\" id=\"sk-estimator-id-6\" type=\"checkbox\" ><label for=\"sk-estimator-id-6\" class=\"sk-toggleable__label sk-toggleable__label-arrow\">cat</label><div class=\"sk-toggleable__content\"><pre>[&#x27;Sex&#x27;, &#x27;Embarked&#x27;]</pre></div></div></div><div class=\"sk-serial\"><div class=\"sk-item\"><div class=\"sk-serial\"><div class=\"sk-item\"><div class=\"sk-estimator sk-toggleable\"><input class=\"sk-toggleable__control sk-hidden--visually\" id=\"sk-estimator-id-7\" type=\"checkbox\" ><label for=\"sk-estimator-id-7\" class=\"sk-toggleable__label sk-toggleable__label-arrow\">SimpleImputer</label><div class=\"sk-toggleable__content\"><pre>SimpleImputer(strategy=&#x27;most_frequent&#x27;)</pre></div></div></div><div class=\"sk-item\"><div class=\"sk-estimator sk-toggleable\"><input class=\"sk-toggleable__control sk-hidden--visually\" id=\"sk-estimator-id-8\" type=\"checkbox\" ><label for=\"sk-estimator-id-8\" class=\"sk-toggleable__label sk-toggleable__label-arrow\">OneHotEncoder</label><div class=\"sk-toggleable__content\"><pre>OneHotEncoder(handle_unknown=&#x27;ignore&#x27;)</pre></div></div></div></div></div></div></div></div></div></div><div class=\"sk-item\"><div class=\"sk-estimator sk-toggleable\"><input class=\"sk-toggleable__control sk-hidden--visually\" id=\"sk-estimator-id-9\" type=\"checkbox\" ><label for=\"sk-estimator-id-9\" class=\"sk-toggleable__label sk-toggleable__label-arrow\">RandomForestClassifier</label><div class=\"sk-toggleable__content\"><pre>RandomForestClassifier(random_state=42)</pre></div></div></div></div></div></div></div></div></div></div></div></div>"
      ],
      "text/plain": [
       "RandomizedSearchCV(cv=5,\n",
       "                   estimator=Pipeline(steps=[('preprocessing',\n",
       "                                              ColumnTransformer(transformers=[('num',\n",
       "                                                                               Pipeline(steps=[('imputer',\n",
       "                                                                                                SimpleImputer(strategy='median'))]),\n",
       "                                                                               ['Pclass',\n",
       "                                                                                'Age',\n",
       "                                                                                'SibSp',\n",
       "                                                                                'Parch',\n",
       "                                                                                'Fare']),\n",
       "                                                                              ('cat',\n",
       "                                                                               Pipeline(steps=[('imputer',\n",
       "                                                                                                SimpleImputer(strategy='most_frequent')),\n",
       "                                                                                               ('onehot',\n",
       "                                                                                                OneHotEncoder(handle_unknown='ignore'))]),\n",
       "                                                                               ['Sex',\n",
       "                                                                                'Embarked'])])),\n",
       "                                             ('classifier',\n",
       "                                              RandomForestClassifier(random_state=42))]),\n",
       "                   n_iter=20, n_jobs=-1,\n",
       "                   param_distributions={'classifier__max_depth': [None, 5, 10,\n",
       "                                                                  20],\n",
       "                                        'classifier__max_features': ['sqrt'],\n",
       "                                        'classifier__min_samples_leaf': [1, 2,\n",
       "                                                                         4],\n",
       "                                        'classifier__min_samples_split': [2, 5,\n",
       "                                                                          10],\n",
       "                                        'classifier__n_estimators': [100, 200,\n",
       "                                                                     300]},\n",
       "                   random_state=42, scoring='accuracy', verbose=1)"
      ]
     },
     "execution_count": 30,
     "metadata": {},
     "output_type": "execute_result"
    }
   ],
   "source": [
    "# Hyper parameter search for tuning of the model\n",
    "param_dist = {\n",
    "    'classifier__n_estimators': [100, 200, 300],\n",
    "    'classifier__max_depth': [None, 5, 10, 20],\n",
    "    'classifier__min_samples_split': [2, 5, 10],\n",
    "    'classifier__min_samples_leaf': [1, 2, 4],\n",
    "    'classifier__max_features': ['sqrt']\n",
    "}\n",
    "\n",
    "# Random search\n",
    "random_search = RandomizedSearchCV(\n",
    "    estimator=pipeline,\n",
    "    param_distributions=param_dist,\n",
    "    n_iter=20,\n",
    "    cv=5,\n",
    "    scoring='accuracy',\n",
    "    n_jobs=-1,\n",
    "    random_state=42,\n",
    "    verbose=1\n",
    ")\n",
    "\n",
    "# Entrenar\n",
    "random_search.fit(X_train, y_train)\n"
   ]
  },
  {
   "cell_type": "code",
   "execution_count": 31,
   "id": "0004a1d3",
   "metadata": {
    "execution": {
     "iopub.execute_input": "2025-04-03T23:39:55.950090Z",
     "iopub.status.busy": "2025-04-03T23:39:55.949660Z",
     "iopub.status.idle": "2025-04-03T23:39:55.955830Z",
     "shell.execute_reply": "2025-04-03T23:39:55.954555Z"
    },
    "papermill": {
     "duration": 0.025154,
     "end_time": "2025-04-03T23:39:55.957880",
     "exception": false,
     "start_time": "2025-04-03T23:39:55.932726",
     "status": "completed"
    },
    "tags": []
   },
   "outputs": [
    {
     "name": "stdout",
     "output_type": "stream",
     "text": [
      "Best hyper-parameters: {'classifier__n_estimators': 300, 'classifier__min_samples_split': 2, 'classifier__min_samples_leaf': 1, 'classifier__max_features': 'sqrt', 'classifier__max_depth': 10}\n"
     ]
    }
   ],
   "source": [
    "print(f\"Best hyper-parameters: {random_search.best_params_}\")\n"
   ]
  },
  {
   "cell_type": "code",
   "execution_count": 32,
   "id": "ab3763a8",
   "metadata": {
    "execution": {
     "iopub.execute_input": "2025-04-03T23:39:55.990264Z",
     "iopub.status.busy": "2025-04-03T23:39:55.989857Z",
     "iopub.status.idle": "2025-04-03T23:39:56.647541Z",
     "shell.execute_reply": "2025-04-03T23:39:56.646122Z"
    },
    "papermill": {
     "duration": 0.675661,
     "end_time": "2025-04-03T23:39:56.649354",
     "exception": false,
     "start_time": "2025-04-03T23:39:55.973693",
     "status": "completed"
    },
    "tags": []
   },
   "outputs": [
    {
     "name": "stderr",
     "output_type": "stream",
     "text": [
      "/usr/local/lib/python3.10/dist-packages/sklearn/pipeline.py:405: DataConversionWarning: A column-vector y was passed when a 1d array was expected. Please change the shape of y to (n_samples,), for example using ravel().\n",
      "  self._final_estimator.fit(Xt, y, **fit_params_last_step)\n"
     ]
    },
    {
     "data": {
      "text/html": [
       "<style>#sk-container-id-2 {color: black;background-color: white;}#sk-container-id-2 pre{padding: 0;}#sk-container-id-2 div.sk-toggleable {background-color: white;}#sk-container-id-2 label.sk-toggleable__label {cursor: pointer;display: block;width: 100%;margin-bottom: 0;padding: 0.3em;box-sizing: border-box;text-align: center;}#sk-container-id-2 label.sk-toggleable__label-arrow:before {content: \"▸\";float: left;margin-right: 0.25em;color: #696969;}#sk-container-id-2 label.sk-toggleable__label-arrow:hover:before {color: black;}#sk-container-id-2 div.sk-estimator:hover label.sk-toggleable__label-arrow:before {color: black;}#sk-container-id-2 div.sk-toggleable__content {max-height: 0;max-width: 0;overflow: hidden;text-align: left;background-color: #f0f8ff;}#sk-container-id-2 div.sk-toggleable__content pre {margin: 0.2em;color: black;border-radius: 0.25em;background-color: #f0f8ff;}#sk-container-id-2 input.sk-toggleable__control:checked~div.sk-toggleable__content {max-height: 200px;max-width: 100%;overflow: auto;}#sk-container-id-2 input.sk-toggleable__control:checked~label.sk-toggleable__label-arrow:before {content: \"▾\";}#sk-container-id-2 div.sk-estimator input.sk-toggleable__control:checked~label.sk-toggleable__label {background-color: #d4ebff;}#sk-container-id-2 div.sk-label input.sk-toggleable__control:checked~label.sk-toggleable__label {background-color: #d4ebff;}#sk-container-id-2 input.sk-hidden--visually {border: 0;clip: rect(1px 1px 1px 1px);clip: rect(1px, 1px, 1px, 1px);height: 1px;margin: -1px;overflow: hidden;padding: 0;position: absolute;width: 1px;}#sk-container-id-2 div.sk-estimator {font-family: monospace;background-color: #f0f8ff;border: 1px dotted black;border-radius: 0.25em;box-sizing: border-box;margin-bottom: 0.5em;}#sk-container-id-2 div.sk-estimator:hover {background-color: #d4ebff;}#sk-container-id-2 div.sk-parallel-item::after {content: \"\";width: 100%;border-bottom: 1px solid gray;flex-grow: 1;}#sk-container-id-2 div.sk-label:hover label.sk-toggleable__label {background-color: #d4ebff;}#sk-container-id-2 div.sk-serial::before {content: \"\";position: absolute;border-left: 1px solid gray;box-sizing: border-box;top: 0;bottom: 0;left: 50%;z-index: 0;}#sk-container-id-2 div.sk-serial {display: flex;flex-direction: column;align-items: center;background-color: white;padding-right: 0.2em;padding-left: 0.2em;position: relative;}#sk-container-id-2 div.sk-item {position: relative;z-index: 1;}#sk-container-id-2 div.sk-parallel {display: flex;align-items: stretch;justify-content: center;background-color: white;position: relative;}#sk-container-id-2 div.sk-item::before, #sk-container-id-2 div.sk-parallel-item::before {content: \"\";position: absolute;border-left: 1px solid gray;box-sizing: border-box;top: 0;bottom: 0;left: 50%;z-index: -1;}#sk-container-id-2 div.sk-parallel-item {display: flex;flex-direction: column;z-index: 1;position: relative;background-color: white;}#sk-container-id-2 div.sk-parallel-item:first-child::after {align-self: flex-end;width: 50%;}#sk-container-id-2 div.sk-parallel-item:last-child::after {align-self: flex-start;width: 50%;}#sk-container-id-2 div.sk-parallel-item:only-child::after {width: 0;}#sk-container-id-2 div.sk-dashed-wrapped {border: 1px dashed gray;margin: 0 0.4em 0.5em 0.4em;box-sizing: border-box;padding-bottom: 0.4em;background-color: white;}#sk-container-id-2 div.sk-label label {font-family: monospace;font-weight: bold;display: inline-block;line-height: 1.2em;}#sk-container-id-2 div.sk-label-container {text-align: center;}#sk-container-id-2 div.sk-container {/* jupyter's `normalize.less` sets `[hidden] { display: none; }` but bootstrap.min.css set `[hidden] { display: none !important; }` so we also need the `!important` here to be able to override the default hidden behavior on the sphinx rendered scikit-learn.org. See: https://github.com/scikit-learn/scikit-learn/issues/21755 */display: inline-block !important;position: relative;}#sk-container-id-2 div.sk-text-repr-fallback {display: none;}</style><div id=\"sk-container-id-2\" class=\"sk-top-container\"><div class=\"sk-text-repr-fallback\"><pre>Pipeline(steps=[(&#x27;preprocessing&#x27;,\n",
       "                 ColumnTransformer(transformers=[(&#x27;num&#x27;,\n",
       "                                                  Pipeline(steps=[(&#x27;imputer&#x27;,\n",
       "                                                                   SimpleImputer(strategy=&#x27;median&#x27;))]),\n",
       "                                                  [&#x27;Pclass&#x27;, &#x27;Age&#x27;, &#x27;SibSp&#x27;,\n",
       "                                                   &#x27;Parch&#x27;, &#x27;Fare&#x27;]),\n",
       "                                                 (&#x27;cat&#x27;,\n",
       "                                                  Pipeline(steps=[(&#x27;imputer&#x27;,\n",
       "                                                                   SimpleImputer(strategy=&#x27;most_frequent&#x27;)),\n",
       "                                                                  (&#x27;onehot&#x27;,\n",
       "                                                                   OneHotEncoder(handle_unknown=&#x27;ignore&#x27;))]),\n",
       "                                                  [&#x27;Sex&#x27;, &#x27;Embarked&#x27;])])),\n",
       "                (&#x27;classifier&#x27;,\n",
       "                 RandomForestClassifier(max_depth=10, n_estimators=300,\n",
       "                                        random_state=42))])</pre><b>In a Jupyter environment, please rerun this cell to show the HTML representation or trust the notebook. <br />On GitHub, the HTML representation is unable to render, please try loading this page with nbviewer.org.</b></div><div class=\"sk-container\" hidden><div class=\"sk-item sk-dashed-wrapped\"><div class=\"sk-label-container\"><div class=\"sk-label sk-toggleable\"><input class=\"sk-toggleable__control sk-hidden--visually\" id=\"sk-estimator-id-10\" type=\"checkbox\" ><label for=\"sk-estimator-id-10\" class=\"sk-toggleable__label sk-toggleable__label-arrow\">Pipeline</label><div class=\"sk-toggleable__content\"><pre>Pipeline(steps=[(&#x27;preprocessing&#x27;,\n",
       "                 ColumnTransformer(transformers=[(&#x27;num&#x27;,\n",
       "                                                  Pipeline(steps=[(&#x27;imputer&#x27;,\n",
       "                                                                   SimpleImputer(strategy=&#x27;median&#x27;))]),\n",
       "                                                  [&#x27;Pclass&#x27;, &#x27;Age&#x27;, &#x27;SibSp&#x27;,\n",
       "                                                   &#x27;Parch&#x27;, &#x27;Fare&#x27;]),\n",
       "                                                 (&#x27;cat&#x27;,\n",
       "                                                  Pipeline(steps=[(&#x27;imputer&#x27;,\n",
       "                                                                   SimpleImputer(strategy=&#x27;most_frequent&#x27;)),\n",
       "                                                                  (&#x27;onehot&#x27;,\n",
       "                                                                   OneHotEncoder(handle_unknown=&#x27;ignore&#x27;))]),\n",
       "                                                  [&#x27;Sex&#x27;, &#x27;Embarked&#x27;])])),\n",
       "                (&#x27;classifier&#x27;,\n",
       "                 RandomForestClassifier(max_depth=10, n_estimators=300,\n",
       "                                        random_state=42))])</pre></div></div></div><div class=\"sk-serial\"><div class=\"sk-item sk-dashed-wrapped\"><div class=\"sk-label-container\"><div class=\"sk-label sk-toggleable\"><input class=\"sk-toggleable__control sk-hidden--visually\" id=\"sk-estimator-id-11\" type=\"checkbox\" ><label for=\"sk-estimator-id-11\" class=\"sk-toggleable__label sk-toggleable__label-arrow\">preprocessing: ColumnTransformer</label><div class=\"sk-toggleable__content\"><pre>ColumnTransformer(transformers=[(&#x27;num&#x27;,\n",
       "                                 Pipeline(steps=[(&#x27;imputer&#x27;,\n",
       "                                                  SimpleImputer(strategy=&#x27;median&#x27;))]),\n",
       "                                 [&#x27;Pclass&#x27;, &#x27;Age&#x27;, &#x27;SibSp&#x27;, &#x27;Parch&#x27;, &#x27;Fare&#x27;]),\n",
       "                                (&#x27;cat&#x27;,\n",
       "                                 Pipeline(steps=[(&#x27;imputer&#x27;,\n",
       "                                                  SimpleImputer(strategy=&#x27;most_frequent&#x27;)),\n",
       "                                                 (&#x27;onehot&#x27;,\n",
       "                                                  OneHotEncoder(handle_unknown=&#x27;ignore&#x27;))]),\n",
       "                                 [&#x27;Sex&#x27;, &#x27;Embarked&#x27;])])</pre></div></div></div><div class=\"sk-parallel\"><div class=\"sk-parallel-item\"><div class=\"sk-item\"><div class=\"sk-label-container\"><div class=\"sk-label sk-toggleable\"><input class=\"sk-toggleable__control sk-hidden--visually\" id=\"sk-estimator-id-12\" type=\"checkbox\" ><label for=\"sk-estimator-id-12\" class=\"sk-toggleable__label sk-toggleable__label-arrow\">num</label><div class=\"sk-toggleable__content\"><pre>[&#x27;Pclass&#x27;, &#x27;Age&#x27;, &#x27;SibSp&#x27;, &#x27;Parch&#x27;, &#x27;Fare&#x27;]</pre></div></div></div><div class=\"sk-serial\"><div class=\"sk-item\"><div class=\"sk-serial\"><div class=\"sk-item\"><div class=\"sk-estimator sk-toggleable\"><input class=\"sk-toggleable__control sk-hidden--visually\" id=\"sk-estimator-id-13\" type=\"checkbox\" ><label for=\"sk-estimator-id-13\" class=\"sk-toggleable__label sk-toggleable__label-arrow\">SimpleImputer</label><div class=\"sk-toggleable__content\"><pre>SimpleImputer(strategy=&#x27;median&#x27;)</pre></div></div></div></div></div></div></div></div><div class=\"sk-parallel-item\"><div class=\"sk-item\"><div class=\"sk-label-container\"><div class=\"sk-label sk-toggleable\"><input class=\"sk-toggleable__control sk-hidden--visually\" id=\"sk-estimator-id-14\" type=\"checkbox\" ><label for=\"sk-estimator-id-14\" class=\"sk-toggleable__label sk-toggleable__label-arrow\">cat</label><div class=\"sk-toggleable__content\"><pre>[&#x27;Sex&#x27;, &#x27;Embarked&#x27;]</pre></div></div></div><div class=\"sk-serial\"><div class=\"sk-item\"><div class=\"sk-serial\"><div class=\"sk-item\"><div class=\"sk-estimator sk-toggleable\"><input class=\"sk-toggleable__control sk-hidden--visually\" id=\"sk-estimator-id-15\" type=\"checkbox\" ><label for=\"sk-estimator-id-15\" class=\"sk-toggleable__label sk-toggleable__label-arrow\">SimpleImputer</label><div class=\"sk-toggleable__content\"><pre>SimpleImputer(strategy=&#x27;most_frequent&#x27;)</pre></div></div></div><div class=\"sk-item\"><div class=\"sk-estimator sk-toggleable\"><input class=\"sk-toggleable__control sk-hidden--visually\" id=\"sk-estimator-id-16\" type=\"checkbox\" ><label for=\"sk-estimator-id-16\" class=\"sk-toggleable__label sk-toggleable__label-arrow\">OneHotEncoder</label><div class=\"sk-toggleable__content\"><pre>OneHotEncoder(handle_unknown=&#x27;ignore&#x27;)</pre></div></div></div></div></div></div></div></div></div></div><div class=\"sk-item\"><div class=\"sk-estimator sk-toggleable\"><input class=\"sk-toggleable__control sk-hidden--visually\" id=\"sk-estimator-id-17\" type=\"checkbox\" ><label for=\"sk-estimator-id-17\" class=\"sk-toggleable__label sk-toggleable__label-arrow\">RandomForestClassifier</label><div class=\"sk-toggleable__content\"><pre>RandomForestClassifier(max_depth=10, n_estimators=300, random_state=42)</pre></div></div></div></div></div></div></div>"
      ],
      "text/plain": [
       "Pipeline(steps=[('preprocessing',\n",
       "                 ColumnTransformer(transformers=[('num',\n",
       "                                                  Pipeline(steps=[('imputer',\n",
       "                                                                   SimpleImputer(strategy='median'))]),\n",
       "                                                  ['Pclass', 'Age', 'SibSp',\n",
       "                                                   'Parch', 'Fare']),\n",
       "                                                 ('cat',\n",
       "                                                  Pipeline(steps=[('imputer',\n",
       "                                                                   SimpleImputer(strategy='most_frequent')),\n",
       "                                                                  ('onehot',\n",
       "                                                                   OneHotEncoder(handle_unknown='ignore'))]),\n",
       "                                                  ['Sex', 'Embarked'])])),\n",
       "                ('classifier',\n",
       "                 RandomForestClassifier(max_depth=10, n_estimators=300,\n",
       "                                        random_state=42))])"
      ]
     },
     "execution_count": 32,
     "metadata": {},
     "output_type": "execute_result"
    }
   ],
   "source": [
    "model = RandomForestClassifier(\n",
    "    random_state = 42,\n",
    "    n_estimators = 300,\n",
    "    min_samples_split = 2,\n",
    "    min_samples_leaf = 1,\n",
    "    max_features = 'sqrt',\n",
    "    max_depth = 10\n",
    ")\n",
    "\n",
    "pipeline = Pipeline(steps=[\n",
    "    ('preprocessing', preprocessor),\n",
    "    ('classifier', model)\n",
    "])\n",
    "\n",
    "pipeline.fit(X_train, y_train)"
   ]
  },
  {
   "cell_type": "markdown",
   "id": "a9ea9a75",
   "metadata": {
    "papermill": {
     "duration": 0.015595,
     "end_time": "2025-04-03T23:39:56.681328",
     "exception": false,
     "start_time": "2025-04-03T23:39:56.665733",
     "status": "completed"
    },
    "tags": []
   },
   "source": [
    "Predictions of the model with the best hyperparameters found"
   ]
  },
  {
   "cell_type": "code",
   "execution_count": 33,
   "id": "bd3ab4fc",
   "metadata": {
    "execution": {
     "iopub.execute_input": "2025-04-03T23:39:56.714776Z",
     "iopub.status.busy": "2025-04-03T23:39:56.714367Z",
     "iopub.status.idle": "2025-04-03T23:39:56.773349Z",
     "shell.execute_reply": "2025-04-03T23:39:56.772392Z"
    },
    "papermill": {
     "duration": 0.077828,
     "end_time": "2025-04-03T23:39:56.775192",
     "exception": false,
     "start_time": "2025-04-03T23:39:56.697364",
     "status": "completed"
    },
    "tags": []
   },
   "outputs": [],
   "source": [
    "predictions = pipeline.predict(X_test)"
   ]
  },
  {
   "cell_type": "code",
   "execution_count": 34,
   "id": "df9591da",
   "metadata": {
    "execution": {
     "iopub.execute_input": "2025-04-03T23:39:56.808785Z",
     "iopub.status.busy": "2025-04-03T23:39:56.808399Z",
     "iopub.status.idle": "2025-04-03T23:39:56.829790Z",
     "shell.execute_reply": "2025-04-03T23:39:56.828609Z"
    },
    "papermill": {
     "duration": 0.040816,
     "end_time": "2025-04-03T23:39:56.831822",
     "exception": false,
     "start_time": "2025-04-03T23:39:56.791006",
     "status": "completed"
    },
    "tags": []
   },
   "outputs": [
    {
     "name": "stdout",
     "output_type": "stream",
     "text": [
      "Accuracy: 0.9394\n",
      "\n",
      "Classification Report:\n",
      "              precision    recall  f1-score   support\n",
      "\n",
      "           0       0.93      0.98      0.95       549\n",
      "           1       0.96      0.88      0.92       342\n",
      "\n",
      "    accuracy                           0.94       891\n",
      "   macro avg       0.94      0.93      0.93       891\n",
      "weighted avg       0.94      0.94      0.94       891\n",
      "\n"
     ]
    }
   ],
   "source": [
    "# Accuracy\n",
    "accuracy = accuracy_score(y_test, predictions)\n",
    "print(f\"Accuracy: {accuracy:.4f}\")\n",
    "\n",
    "print(\"\\nClassification Report:\")\n",
    "print(classification_report(y_test, predictions))"
   ]
  },
  {
   "cell_type": "markdown",
   "id": "4eb712c1",
   "metadata": {
    "papermill": {
     "duration": 0.076259,
     "end_time": "2025-04-03T23:39:56.924079",
     "exception": false,
     "start_time": "2025-04-03T23:39:56.847820",
     "status": "completed"
    },
    "tags": []
   },
   "source": [
    "Confusion Matrix"
   ]
  },
  {
   "cell_type": "code",
   "execution_count": 35,
   "id": "d64dada6",
   "metadata": {
    "execution": {
     "iopub.execute_input": "2025-04-03T23:39:56.959259Z",
     "iopub.status.busy": "2025-04-03T23:39:56.958789Z",
     "iopub.status.idle": "2025-04-03T23:39:57.170552Z",
     "shell.execute_reply": "2025-04-03T23:39:57.169460Z"
    },
    "papermill": {
     "duration": 0.231896,
     "end_time": "2025-04-03T23:39:57.172401",
     "exception": false,
     "start_time": "2025-04-03T23:39:56.940505",
     "status": "completed"
    },
    "tags": []
   },
   "outputs": [
    {
     "data": {
      "image/png": "[encoded data removed]",
      "text/plain": [
       "<Figure size 500x400 with 2 Axes>"
      ]
     },
     "metadata": {},
     "output_type": "display_data"
    }
   ],
   "source": [
    "conf_matrix = confusion_matrix(y_test, predictions)\n",
    "plt.figure(figsize=(5,4))\n",
    "sns.heatmap(conf_matrix, annot=True, fmt='d', cmap='Blues', xticklabels=['Not survived', 'Survived'], yticklabels=['Not survived', 'Survived'])\n",
    "plt.xlabel(\"Prediction\")\n",
    "plt.ylabel(\"True Value\")\n",
    "plt.title(\"Confusion Matrix\")\n",
    "plt.show()"
   ]
  }
 ],
 "metadata": {
  "kaggle": {
   "accelerator": "none",
   "dataSources": [
    {
     "databundleVersionId": 26502,
     "sourceId": 3136,
     "sourceType": "competition"
    }
   ],
   "dockerImageVersionId": 30918,
   "isGpuEnabled": false,
   "isInternetEnabled": true,
   "language": "python",
   "sourceType": "notebook"
  },
  "kernelspec": {
   "display_name": "Python 3",
   "language": "python",
   "name": "python3"
  },
  "language_info": {
   "codemirror_mode": {
    "name": "ipython",
    "version": 3
   },
   "file_extension": ".py",
   "mimetype": "text/x-python",
   "name": "python",
   "nbconvert_exporter": "python",
   "pygments_lexer": "ipython3",
   "version": "3.10.12"
  },
  "papermill": {
   "default_parameters": {},
   "duration": 35.786337,
   "end_time": "2025-04-03T23:39:58.112496",
   "environment_variables": {},
   "exception": null,
   "input_path": "__notebook__.ipynb",
   "output_path": "__notebook__.ipynb",
   "parameters": {},
   "start_time": "2025-04-03T23:39:22.326159",
   "version": "2.6.0"
  }
 },
 "nbformat": 4,
 "nbformat_minor": 5
}
